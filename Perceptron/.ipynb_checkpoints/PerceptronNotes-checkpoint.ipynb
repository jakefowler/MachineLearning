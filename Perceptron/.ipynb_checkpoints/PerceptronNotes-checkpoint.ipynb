{
 "cells": [
  {
   "cell_type": "markdown",
   "metadata": {},
   "source": [
    "CS5600/CS6600 Assignment 3\n",
    "Using a language of your choice (We will use python 3 in class), implement the Perceptron algorithm.  You can use libraries to help with the data processing, calculations, etc, but you must implement your own Perceptron learning algorithm.  Do not use an existing implementation.  One important implementation detail is that you should normalize all inputs to the same range for best performance. \n",
    "You will need to implement a k-fold cross-validation approach.  Choose k between 3 and 10.  Graph the accuracy score as a function of the number of training epochs (iterations of updating the weights).  Provide five graphs for five different learning rates (0.1, 0.3, 0.5, 0.7 and 0.9).\n",
    "Train your perceptron learning algorithm using the Diabetes.csv file.\n",
    "Answer the following questions and submit your source code as well.\n",
    "\n",
    "For each learning rate how many epochs are needed to achieve optimal performance?\n",
    "\n",
    "\n",
    "Is there a correlation between the learning rate and the optimal number of epochs?  If so describe the correlation.\n",
    "\n",
    "\n",
    "What happens to the accuracy if you do not normalize the inputs?\n"
   ]
  },
  {
   "cell_type": "code",
   "execution_count": 2,
   "metadata": {},
   "outputs": [],
   "source": [
    "import sklearn"
   ]
  },
  {
   "cell_type": "markdown",
   "metadata": {},
   "source": [
    "Can use sklearn for cross validation and normalization"
   ]
  },
  {
   "cell_type": "code",
   "execution_count": 3,
   "metadata": {},
   "outputs": [],
   "source": [
    "from sklearn.model_selection import KFold"
   ]
  },
  {
   "cell_type": "markdown",
   "metadata": {},
   "source": [
    "Should probably randomize data before kfold"
   ]
  },
  {
   "cell_type": "code",
   "execution_count": 4,
   "metadata": {},
   "outputs": [],
   "source": [
    "import pandas as pd\n",
    "import numpy as np"
   ]
  },
  {
   "cell_type": "code",
   "execution_count": 6,
   "metadata": {},
   "outputs": [
    {
     "data": {
      "text/html": [
       "<div>\n",
       "<style scoped>\n",
       "    .dataframe tbody tr th:only-of-type {\n",
       "        vertical-align: middle;\n",
       "    }\n",
       "\n",
       "    .dataframe tbody tr th {\n",
       "        vertical-align: top;\n",
       "    }\n",
       "\n",
       "    .dataframe thead th {\n",
       "        text-align: right;\n",
       "    }\n",
       "</style>\n",
       "<table border=\"1\" class=\"dataframe\">\n",
       "  <thead>\n",
       "    <tr style=\"text-align: right;\">\n",
       "      <th></th>\n",
       "      <th>0</th>\n",
       "      <th>1</th>\n",
       "      <th>2</th>\n",
       "      <th>3</th>\n",
       "    </tr>\n",
       "  </thead>\n",
       "  <tbody>\n",
       "    <tr>\n",
       "      <th>0</th>\n",
       "      <td>0.827683</td>\n",
       "      <td>0.340216</td>\n",
       "      <td>-0.056512</td>\n",
       "      <td>-0.349730</td>\n",
       "    </tr>\n",
       "    <tr>\n",
       "      <th>1</th>\n",
       "      <td>-1.161720</td>\n",
       "      <td>-2.368056</td>\n",
       "      <td>0.184844</td>\n",
       "      <td>-0.848944</td>\n",
       "    </tr>\n",
       "    <tr>\n",
       "      <th>2</th>\n",
       "      <td>0.507349</td>\n",
       "      <td>0.293212</td>\n",
       "      <td>1.186451</td>\n",
       "      <td>0.026860</td>\n",
       "    </tr>\n",
       "    <tr>\n",
       "      <th>3</th>\n",
       "      <td>-0.030352</td>\n",
       "      <td>-0.914277</td>\n",
       "      <td>0.412445</td>\n",
       "      <td>-0.427046</td>\n",
       "    </tr>\n",
       "    <tr>\n",
       "      <th>4</th>\n",
       "      <td>-0.978345</td>\n",
       "      <td>-0.375951</td>\n",
       "      <td>-1.455620</td>\n",
       "      <td>-0.510557</td>\n",
       "    </tr>\n",
       "    <tr>\n",
       "      <th>5</th>\n",
       "      <td>-0.227306</td>\n",
       "      <td>0.040024</td>\n",
       "      <td>0.366677</td>\n",
       "      <td>0.391854</td>\n",
       "    </tr>\n",
       "  </tbody>\n",
       "</table>\n",
       "</div>"
      ],
      "text/plain": [
       "          0         1         2         3\n",
       "0  0.827683  0.340216 -0.056512 -0.349730\n",
       "1 -1.161720 -2.368056  0.184844 -0.848944\n",
       "2  0.507349  0.293212  1.186451  0.026860\n",
       "3 -0.030352 -0.914277  0.412445 -0.427046\n",
       "4 -0.978345 -0.375951 -1.455620 -0.510557\n",
       "5 -0.227306  0.040024  0.366677  0.391854"
      ]
     },
     "execution_count": 6,
     "metadata": {},
     "output_type": "execute_result"
    }
   ],
   "source": [
    "pd.DataFrame(np.random.randn(6,4))"
   ]
  },
  {
   "cell_type": "code",
   "execution_count": 7,
   "metadata": {},
   "outputs": [],
   "source": [
    "data = _"
   ]
  },
  {
   "cell_type": "code",
   "execution_count": 8,
   "metadata": {},
   "outputs": [],
   "source": [
    "data.loc[:, \"Class\"] = [1,1,1,-1,-1,-1]"
   ]
  },
  {
   "cell_type": "code",
   "execution_count": 9,
   "metadata": {},
   "outputs": [
    {
     "data": {
      "text/html": [
       "<div>\n",
       "<style scoped>\n",
       "    .dataframe tbody tr th:only-of-type {\n",
       "        vertical-align: middle;\n",
       "    }\n",
       "\n",
       "    .dataframe tbody tr th {\n",
       "        vertical-align: top;\n",
       "    }\n",
       "\n",
       "    .dataframe thead th {\n",
       "        text-align: right;\n",
       "    }\n",
       "</style>\n",
       "<table border=\"1\" class=\"dataframe\">\n",
       "  <thead>\n",
       "    <tr style=\"text-align: right;\">\n",
       "      <th></th>\n",
       "      <th>0</th>\n",
       "      <th>1</th>\n",
       "      <th>2</th>\n",
       "      <th>3</th>\n",
       "      <th>Class</th>\n",
       "    </tr>\n",
       "  </thead>\n",
       "  <tbody>\n",
       "    <tr>\n",
       "      <th>0</th>\n",
       "      <td>0.827683</td>\n",
       "      <td>0.340216</td>\n",
       "      <td>-0.056512</td>\n",
       "      <td>-0.349730</td>\n",
       "      <td>1</td>\n",
       "    </tr>\n",
       "    <tr>\n",
       "      <th>1</th>\n",
       "      <td>-1.161720</td>\n",
       "      <td>-2.368056</td>\n",
       "      <td>0.184844</td>\n",
       "      <td>-0.848944</td>\n",
       "      <td>1</td>\n",
       "    </tr>\n",
       "    <tr>\n",
       "      <th>2</th>\n",
       "      <td>0.507349</td>\n",
       "      <td>0.293212</td>\n",
       "      <td>1.186451</td>\n",
       "      <td>0.026860</td>\n",
       "      <td>1</td>\n",
       "    </tr>\n",
       "    <tr>\n",
       "      <th>3</th>\n",
       "      <td>-0.030352</td>\n",
       "      <td>-0.914277</td>\n",
       "      <td>0.412445</td>\n",
       "      <td>-0.427046</td>\n",
       "      <td>-1</td>\n",
       "    </tr>\n",
       "    <tr>\n",
       "      <th>4</th>\n",
       "      <td>-0.978345</td>\n",
       "      <td>-0.375951</td>\n",
       "      <td>-1.455620</td>\n",
       "      <td>-0.510557</td>\n",
       "      <td>-1</td>\n",
       "    </tr>\n",
       "    <tr>\n",
       "      <th>5</th>\n",
       "      <td>-0.227306</td>\n",
       "      <td>0.040024</td>\n",
       "      <td>0.366677</td>\n",
       "      <td>0.391854</td>\n",
       "      <td>-1</td>\n",
       "    </tr>\n",
       "  </tbody>\n",
       "</table>\n",
       "</div>"
      ],
      "text/plain": [
       "          0         1         2         3  Class\n",
       "0  0.827683  0.340216 -0.056512 -0.349730      1\n",
       "1 -1.161720 -2.368056  0.184844 -0.848944      1\n",
       "2  0.507349  0.293212  1.186451  0.026860      1\n",
       "3 -0.030352 -0.914277  0.412445 -0.427046     -1\n",
       "4 -0.978345 -0.375951 -1.455620 -0.510557     -1\n",
       "5 -0.227306  0.040024  0.366677  0.391854     -1"
      ]
     },
     "execution_count": 9,
     "metadata": {},
     "output_type": "execute_result"
    }
   ],
   "source": [
    "data"
   ]
  },
  {
   "cell_type": "code",
   "execution_count": 10,
   "metadata": {},
   "outputs": [],
   "source": [
    "kfold = KFold(n_splits=3)"
   ]
  },
  {
   "cell_type": "code",
   "execution_count": 11,
   "metadata": {},
   "outputs": [
    {
     "name": "stdout",
     "output_type": "stream",
     "text": [
      "Train\n",
      "[2 3 4 5]\n",
      "Test\n",
      "[0 1]\n",
      "Train\n",
      "[0 1 4 5]\n",
      "Test\n",
      "[2 3]\n",
      "Train\n",
      "[0 1 2 3]\n",
      "Test\n",
      "[4 5]\n"
     ]
    }
   ],
   "source": [
    "for train, test in kfold.split(data):\n",
    "    print(\"Train\")\n",
    "    print(train)\n",
    "    print(\"Test\")\n",
    "    print(test)"
   ]
  },
  {
   "cell_type": "markdown",
   "metadata": {},
   "source": [
    "Those are the rows that the split is testing on or training on for each iteration for 3 splits"
   ]
  },
  {
   "cell_type": "code",
   "execution_count": 12,
   "metadata": {},
   "outputs": [
    {
     "name": "stdout",
     "output_type": "stream",
     "text": [
      "Train\n",
      "          0         1         2         3  Class\n",
      "2  0.507349  0.293212  1.186451  0.026860      1\n",
      "3 -0.030352 -0.914277  0.412445 -0.427046     -1\n",
      "4 -0.978345 -0.375951 -1.455620 -0.510557     -1\n",
      "5 -0.227306  0.040024  0.366677  0.391854     -1\n",
      "Test\n",
      "          0         1         2         3  Class\n",
      "0  0.827683  0.340216 -0.056512 -0.349730      1\n",
      "1 -1.161720 -2.368056  0.184844 -0.848944      1\n",
      "Train\n",
      "          0         1         2         3  Class\n",
      "0  0.827683  0.340216 -0.056512 -0.349730      1\n",
      "1 -1.161720 -2.368056  0.184844 -0.848944      1\n",
      "4 -0.978345 -0.375951 -1.455620 -0.510557     -1\n",
      "5 -0.227306  0.040024  0.366677  0.391854     -1\n",
      "Test\n",
      "          0         1         2         3  Class\n",
      "2  0.507349  0.293212  1.186451  0.026860      1\n",
      "3 -0.030352 -0.914277  0.412445 -0.427046     -1\n",
      "Train\n",
      "          0         1         2         3  Class\n",
      "0  0.827683  0.340216 -0.056512 -0.349730      1\n",
      "1 -1.161720 -2.368056  0.184844 -0.848944      1\n",
      "2  0.507349  0.293212  1.186451  0.026860      1\n",
      "3 -0.030352 -0.914277  0.412445 -0.427046     -1\n",
      "Test\n",
      "          0         1         2         3  Class\n",
      "4 -0.978345 -0.375951 -1.455620 -0.510557     -1\n",
      "5 -0.227306  0.040024  0.366677  0.391854     -1\n"
     ]
    }
   ],
   "source": [
    "for train, test in kfold.split(data):\n",
    "    print(\"Train\")\n",
    "    print(data.loc[train])\n",
    "    print(\"Test\")\n",
    "    print(data.loc[test])"
   ]
  },
  {
   "cell_type": "code",
   "execution_count": 13,
   "metadata": {},
   "outputs": [],
   "source": [
    "from sklearn.utils import shuffle"
   ]
  },
  {
   "cell_type": "code",
   "execution_count": 14,
   "metadata": {},
   "outputs": [
    {
     "data": {
      "text/html": [
       "<div>\n",
       "<style scoped>\n",
       "    .dataframe tbody tr th:only-of-type {\n",
       "        vertical-align: middle;\n",
       "    }\n",
       "\n",
       "    .dataframe tbody tr th {\n",
       "        vertical-align: top;\n",
       "    }\n",
       "\n",
       "    .dataframe thead th {\n",
       "        text-align: right;\n",
       "    }\n",
       "</style>\n",
       "<table border=\"1\" class=\"dataframe\">\n",
       "  <thead>\n",
       "    <tr style=\"text-align: right;\">\n",
       "      <th></th>\n",
       "      <th>0</th>\n",
       "      <th>1</th>\n",
       "      <th>2</th>\n",
       "      <th>3</th>\n",
       "      <th>Class</th>\n",
       "    </tr>\n",
       "  </thead>\n",
       "  <tbody>\n",
       "    <tr>\n",
       "      <th>0</th>\n",
       "      <td>0.827683</td>\n",
       "      <td>0.340216</td>\n",
       "      <td>-0.056512</td>\n",
       "      <td>-0.349730</td>\n",
       "      <td>1</td>\n",
       "    </tr>\n",
       "    <tr>\n",
       "      <th>5</th>\n",
       "      <td>-0.227306</td>\n",
       "      <td>0.040024</td>\n",
       "      <td>0.366677</td>\n",
       "      <td>0.391854</td>\n",
       "      <td>-1</td>\n",
       "    </tr>\n",
       "    <tr>\n",
       "      <th>2</th>\n",
       "      <td>0.507349</td>\n",
       "      <td>0.293212</td>\n",
       "      <td>1.186451</td>\n",
       "      <td>0.026860</td>\n",
       "      <td>1</td>\n",
       "    </tr>\n",
       "    <tr>\n",
       "      <th>4</th>\n",
       "      <td>-0.978345</td>\n",
       "      <td>-0.375951</td>\n",
       "      <td>-1.455620</td>\n",
       "      <td>-0.510557</td>\n",
       "      <td>-1</td>\n",
       "    </tr>\n",
       "    <tr>\n",
       "      <th>1</th>\n",
       "      <td>-1.161720</td>\n",
       "      <td>-2.368056</td>\n",
       "      <td>0.184844</td>\n",
       "      <td>-0.848944</td>\n",
       "      <td>1</td>\n",
       "    </tr>\n",
       "    <tr>\n",
       "      <th>3</th>\n",
       "      <td>-0.030352</td>\n",
       "      <td>-0.914277</td>\n",
       "      <td>0.412445</td>\n",
       "      <td>-0.427046</td>\n",
       "      <td>-1</td>\n",
       "    </tr>\n",
       "  </tbody>\n",
       "</table>\n",
       "</div>"
      ],
      "text/plain": [
       "          0         1         2         3  Class\n",
       "0  0.827683  0.340216 -0.056512 -0.349730      1\n",
       "5 -0.227306  0.040024  0.366677  0.391854     -1\n",
       "2  0.507349  0.293212  1.186451  0.026860      1\n",
       "4 -0.978345 -0.375951 -1.455620 -0.510557     -1\n",
       "1 -1.161720 -2.368056  0.184844 -0.848944      1\n",
       "3 -0.030352 -0.914277  0.412445 -0.427046     -1"
      ]
     },
     "execution_count": 14,
     "metadata": {},
     "output_type": "execute_result"
    }
   ],
   "source": [
    "shuffle(data).reindex"
   ]
  },
  {
   "cell_type": "code",
   "execution_count": 15,
   "metadata": {},
   "outputs": [],
   "source": [
    "shuffled_data = _"
   ]
  },
  {
   "cell_type": "code",
   "execution_count": 16,
   "metadata": {},
   "outputs": [
    {
     "name": "stdout",
     "output_type": "stream",
     "text": [
      "Train\n",
      "          0         1         2         3  Class\n",
      "2  0.507349  0.293212  1.186451  0.026860      1\n",
      "3 -0.030352 -0.914277  0.412445 -0.427046     -1\n",
      "4 -0.978345 -0.375951 -1.455620 -0.510557     -1\n",
      "5 -0.227306  0.040024  0.366677  0.391854     -1\n",
      "Test\n",
      "          0         1         2         3  Class\n",
      "0  0.827683  0.340216 -0.056512 -0.349730      1\n",
      "1 -1.161720 -2.368056  0.184844 -0.848944      1\n",
      "Train\n",
      "          0         1         2         3  Class\n",
      "0  0.827683  0.340216 -0.056512 -0.349730      1\n",
      "1 -1.161720 -2.368056  0.184844 -0.848944      1\n",
      "4 -0.978345 -0.375951 -1.455620 -0.510557     -1\n",
      "5 -0.227306  0.040024  0.366677  0.391854     -1\n",
      "Test\n",
      "          0         1         2         3  Class\n",
      "2  0.507349  0.293212  1.186451  0.026860      1\n",
      "3 -0.030352 -0.914277  0.412445 -0.427046     -1\n",
      "Train\n",
      "          0         1         2         3  Class\n",
      "0  0.827683  0.340216 -0.056512 -0.349730      1\n",
      "1 -1.161720 -2.368056  0.184844 -0.848944      1\n",
      "2  0.507349  0.293212  1.186451  0.026860      1\n",
      "3 -0.030352 -0.914277  0.412445 -0.427046     -1\n",
      "Test\n",
      "          0         1         2         3  Class\n",
      "4 -0.978345 -0.375951 -1.455620 -0.510557     -1\n",
      "5 -0.227306  0.040024  0.366677  0.391854     -1\n"
     ]
    }
   ],
   "source": [
    "for train, test in kfold.split(data):\n",
    "    print(\"Train\")\n",
    "    print(shuffled_data.loc[train])\n",
    "    print(\"Test\")\n",
    "    print(shuffled_data.loc[test])"
   ]
  },
  {
   "cell_type": "code",
   "execution_count": 17,
   "metadata": {},
   "outputs": [
    {
     "data": {
      "text/html": [
       "<div>\n",
       "<style scoped>\n",
       "    .dataframe tbody tr th:only-of-type {\n",
       "        vertical-align: middle;\n",
       "    }\n",
       "\n",
       "    .dataframe tbody tr th {\n",
       "        vertical-align: top;\n",
       "    }\n",
       "\n",
       "    .dataframe thead th {\n",
       "        text-align: right;\n",
       "    }\n",
       "</style>\n",
       "<table border=\"1\" class=\"dataframe\">\n",
       "  <thead>\n",
       "    <tr style=\"text-align: right;\">\n",
       "      <th></th>\n",
       "      <th>0</th>\n",
       "      <th>1</th>\n",
       "      <th>2</th>\n",
       "      <th>3</th>\n",
       "      <th>Class</th>\n",
       "    </tr>\n",
       "  </thead>\n",
       "  <tbody>\n",
       "    <tr>\n",
       "      <th>0</th>\n",
       "      <td>0.827683</td>\n",
       "      <td>0.340216</td>\n",
       "      <td>-0.056512</td>\n",
       "      <td>-0.349730</td>\n",
       "      <td>1</td>\n",
       "    </tr>\n",
       "    <tr>\n",
       "      <th>1</th>\n",
       "      <td>-1.161720</td>\n",
       "      <td>-2.368056</td>\n",
       "      <td>0.184844</td>\n",
       "      <td>-0.848944</td>\n",
       "      <td>1</td>\n",
       "    </tr>\n",
       "    <tr>\n",
       "      <th>2</th>\n",
       "      <td>0.507349</td>\n",
       "      <td>0.293212</td>\n",
       "      <td>1.186451</td>\n",
       "      <td>0.026860</td>\n",
       "      <td>1</td>\n",
       "    </tr>\n",
       "    <tr>\n",
       "      <th>3</th>\n",
       "      <td>-0.030352</td>\n",
       "      <td>-0.914277</td>\n",
       "      <td>0.412445</td>\n",
       "      <td>-0.427046</td>\n",
       "      <td>-1</td>\n",
       "    </tr>\n",
       "    <tr>\n",
       "      <th>4</th>\n",
       "      <td>-0.978345</td>\n",
       "      <td>-0.375951</td>\n",
       "      <td>-1.455620</td>\n",
       "      <td>-0.510557</td>\n",
       "      <td>-1</td>\n",
       "    </tr>\n",
       "    <tr>\n",
       "      <th>5</th>\n",
       "      <td>-0.227306</td>\n",
       "      <td>0.040024</td>\n",
       "      <td>0.366677</td>\n",
       "      <td>0.391854</td>\n",
       "      <td>-1</td>\n",
       "    </tr>\n",
       "  </tbody>\n",
       "</table>\n",
       "</div>"
      ],
      "text/plain": [
       "          0         1         2         3  Class\n",
       "0  0.827683  0.340216 -0.056512 -0.349730      1\n",
       "1 -1.161720 -2.368056  0.184844 -0.848944      1\n",
       "2  0.507349  0.293212  1.186451  0.026860      1\n",
       "3 -0.030352 -0.914277  0.412445 -0.427046     -1\n",
       "4 -0.978345 -0.375951 -1.455620 -0.510557     -1\n",
       "5 -0.227306  0.040024  0.366677  0.391854     -1"
      ]
     },
     "execution_count": 17,
     "metadata": {},
     "output_type": "execute_result"
    }
   ],
   "source": [
    "pd.DataFrame(shuffled_data, index=range(6))"
   ]
  },
  {
   "cell_type": "code",
   "execution_count": 19,
   "metadata": {},
   "outputs": [
    {
     "data": {
      "text/html": [
       "<div>\n",
       "<style scoped>\n",
       "    .dataframe tbody tr th:only-of-type {\n",
       "        vertical-align: middle;\n",
       "    }\n",
       "\n",
       "    .dataframe tbody tr th {\n",
       "        vertical-align: top;\n",
       "    }\n",
       "\n",
       "    .dataframe thead th {\n",
       "        text-align: right;\n",
       "    }\n",
       "</style>\n",
       "<table border=\"1\" class=\"dataframe\">\n",
       "  <thead>\n",
       "    <tr style=\"text-align: right;\">\n",
       "      <th></th>\n",
       "      <th>0</th>\n",
       "      <th>1</th>\n",
       "      <th>2</th>\n",
       "      <th>3</th>\n",
       "      <th>Class</th>\n",
       "    </tr>\n",
       "  </thead>\n",
       "  <tbody>\n",
       "    <tr>\n",
       "      <th>0</th>\n",
       "      <td>0.827683</td>\n",
       "      <td>0.340216</td>\n",
       "      <td>-0.056512</td>\n",
       "      <td>-0.349730</td>\n",
       "      <td>1</td>\n",
       "    </tr>\n",
       "    <tr>\n",
       "      <th>1</th>\n",
       "      <td>-1.161720</td>\n",
       "      <td>-2.368056</td>\n",
       "      <td>0.184844</td>\n",
       "      <td>-0.848944</td>\n",
       "      <td>1</td>\n",
       "    </tr>\n",
       "    <tr>\n",
       "      <th>2</th>\n",
       "      <td>0.507349</td>\n",
       "      <td>0.293212</td>\n",
       "      <td>1.186451</td>\n",
       "      <td>0.026860</td>\n",
       "      <td>1</td>\n",
       "    </tr>\n",
       "    <tr>\n",
       "      <th>3</th>\n",
       "      <td>-0.030352</td>\n",
       "      <td>-0.914277</td>\n",
       "      <td>0.412445</td>\n",
       "      <td>-0.427046</td>\n",
       "      <td>-1</td>\n",
       "    </tr>\n",
       "    <tr>\n",
       "      <th>4</th>\n",
       "      <td>-0.978345</td>\n",
       "      <td>-0.375951</td>\n",
       "      <td>-1.455620</td>\n",
       "      <td>-0.510557</td>\n",
       "      <td>-1</td>\n",
       "    </tr>\n",
       "    <tr>\n",
       "      <th>5</th>\n",
       "      <td>-0.227306</td>\n",
       "      <td>0.040024</td>\n",
       "      <td>0.366677</td>\n",
       "      <td>0.391854</td>\n",
       "      <td>-1</td>\n",
       "    </tr>\n",
       "  </tbody>\n",
       "</table>\n",
       "</div>"
      ],
      "text/plain": [
       "          0         1         2         3  Class\n",
       "0  0.827683  0.340216 -0.056512 -0.349730      1\n",
       "1 -1.161720 -2.368056  0.184844 -0.848944      1\n",
       "2  0.507349  0.293212  1.186451  0.026860      1\n",
       "3 -0.030352 -0.914277  0.412445 -0.427046     -1\n",
       "4 -0.978345 -0.375951 -1.455620 -0.510557     -1\n",
       "5 -0.227306  0.040024  0.366677  0.391854     -1"
      ]
     },
     "execution_count": 19,
     "metadata": {},
     "output_type": "execute_result"
    }
   ],
   "source": [
    "shuffled_data.reindex(index=range(6))"
   ]
  },
  {
   "cell_type": "code",
   "execution_count": 20,
   "metadata": {},
   "outputs": [],
   "source": [
    "shuffled_data = shuffle(data).reindex()"
   ]
  },
  {
   "cell_type": "code",
   "execution_count": 21,
   "metadata": {},
   "outputs": [
    {
     "data": {
      "text/html": [
       "<div>\n",
       "<style scoped>\n",
       "    .dataframe tbody tr th:only-of-type {\n",
       "        vertical-align: middle;\n",
       "    }\n",
       "\n",
       "    .dataframe tbody tr th {\n",
       "        vertical-align: top;\n",
       "    }\n",
       "\n",
       "    .dataframe thead th {\n",
       "        text-align: right;\n",
       "    }\n",
       "</style>\n",
       "<table border=\"1\" class=\"dataframe\">\n",
       "  <thead>\n",
       "    <tr style=\"text-align: right;\">\n",
       "      <th></th>\n",
       "      <th>0</th>\n",
       "      <th>1</th>\n",
       "      <th>2</th>\n",
       "      <th>3</th>\n",
       "      <th>Class</th>\n",
       "    </tr>\n",
       "  </thead>\n",
       "  <tbody>\n",
       "    <tr>\n",
       "      <th>4</th>\n",
       "      <td>-0.978345</td>\n",
       "      <td>-0.375951</td>\n",
       "      <td>-1.455620</td>\n",
       "      <td>-0.510557</td>\n",
       "      <td>-1</td>\n",
       "    </tr>\n",
       "    <tr>\n",
       "      <th>3</th>\n",
       "      <td>-0.030352</td>\n",
       "      <td>-0.914277</td>\n",
       "      <td>0.412445</td>\n",
       "      <td>-0.427046</td>\n",
       "      <td>-1</td>\n",
       "    </tr>\n",
       "    <tr>\n",
       "      <th>1</th>\n",
       "      <td>-1.161720</td>\n",
       "      <td>-2.368056</td>\n",
       "      <td>0.184844</td>\n",
       "      <td>-0.848944</td>\n",
       "      <td>1</td>\n",
       "    </tr>\n",
       "    <tr>\n",
       "      <th>2</th>\n",
       "      <td>0.507349</td>\n",
       "      <td>0.293212</td>\n",
       "      <td>1.186451</td>\n",
       "      <td>0.026860</td>\n",
       "      <td>1</td>\n",
       "    </tr>\n",
       "    <tr>\n",
       "      <th>0</th>\n",
       "      <td>0.827683</td>\n",
       "      <td>0.340216</td>\n",
       "      <td>-0.056512</td>\n",
       "      <td>-0.349730</td>\n",
       "      <td>1</td>\n",
       "    </tr>\n",
       "    <tr>\n",
       "      <th>5</th>\n",
       "      <td>-0.227306</td>\n",
       "      <td>0.040024</td>\n",
       "      <td>0.366677</td>\n",
       "      <td>0.391854</td>\n",
       "      <td>-1</td>\n",
       "    </tr>\n",
       "  </tbody>\n",
       "</table>\n",
       "</div>"
      ],
      "text/plain": [
       "          0         1         2         3  Class\n",
       "4 -0.978345 -0.375951 -1.455620 -0.510557     -1\n",
       "3 -0.030352 -0.914277  0.412445 -0.427046     -1\n",
       "1 -1.161720 -2.368056  0.184844 -0.848944      1\n",
       "2  0.507349  0.293212  1.186451  0.026860      1\n",
       "0  0.827683  0.340216 -0.056512 -0.349730      1\n",
       "5 -0.227306  0.040024  0.366677  0.391854     -1"
      ]
     },
     "execution_count": 21,
     "metadata": {},
     "output_type": "execute_result"
    }
   ],
   "source": [
    "shuffled_data"
   ]
  },
  {
   "cell_type": "code",
   "execution_count": 22,
   "metadata": {},
   "outputs": [
    {
     "name": "stdout",
     "output_type": "stream",
     "text": [
      "Train\n",
      "          0         1         2         3  Class\n",
      "1 -1.161720 -2.368056  0.184844 -0.848944      1\n",
      "2  0.507349  0.293212  1.186451  0.026860      1\n",
      "0  0.827683  0.340216 -0.056512 -0.349730      1\n",
      "5 -0.227306  0.040024  0.366677  0.391854     -1\n",
      "Test\n",
      "          0         1         2         3  Class\n",
      "4 -0.978345 -0.375951 -1.455620 -0.510557     -1\n",
      "3 -0.030352 -0.914277  0.412445 -0.427046     -1\n",
      "Train\n",
      "          0         1         2         3  Class\n",
      "4 -0.978345 -0.375951 -1.455620 -0.510557     -1\n",
      "3 -0.030352 -0.914277  0.412445 -0.427046     -1\n",
      "0  0.827683  0.340216 -0.056512 -0.349730      1\n",
      "5 -0.227306  0.040024  0.366677  0.391854     -1\n",
      "Test\n",
      "          0         1         2         3  Class\n",
      "1 -1.161720 -2.368056  0.184844 -0.848944      1\n",
      "2  0.507349  0.293212  1.186451  0.026860      1\n",
      "Train\n",
      "          0         1         2         3  Class\n",
      "4 -0.978345 -0.375951 -1.455620 -0.510557     -1\n",
      "3 -0.030352 -0.914277  0.412445 -0.427046     -1\n",
      "1 -1.161720 -2.368056  0.184844 -0.848944      1\n",
      "2  0.507349  0.293212  1.186451  0.026860      1\n",
      "Test\n",
      "          0         1         2         3  Class\n",
      "0  0.827683  0.340216 -0.056512 -0.349730      1\n",
      "5 -0.227306  0.040024  0.366677  0.391854     -1\n"
     ]
    }
   ],
   "source": [
    "for train, test in kfold.split(data):\n",
    "    print(\"Train\")\n",
    "    print(shuffled_data.iloc[train])\n",
    "    print(\"Test\")\n",
    "    print(shuffled_data.iloc[test])"
   ]
  },
  {
   "cell_type": "markdown",
   "metadata": {},
   "source": [
    "### Normalization"
   ]
  },
  {
   "cell_type": "markdown",
   "metadata": {},
   "source": [
    "x - min\n",
    "_______\n",
    "max - min\n",
    "\n",
    "or\n",
    "\n",
    "x - mean\n",
    "________\n",
    "std dev\n",
    "\n",
    "Use the same one on training and testing data\n",
    "Do not normalize all the data together because that will give too much information on the test data."
   ]
  },
  {
   "cell_type": "code",
   "execution_count": 23,
   "metadata": {},
   "outputs": [
    {
     "data": {
      "text/plain": [
       "0       -0.177115\n",
       "1       -0.497472\n",
       "2        0.106381\n",
       "3       -0.286261\n",
       "Class    0.000000\n",
       "dtype: float64"
      ]
     },
     "execution_count": 23,
     "metadata": {},
     "output_type": "execute_result"
    }
   ],
   "source": [
    "data.mean()"
   ]
  },
  {
   "cell_type": "code",
   "execution_count": 26,
   "metadata": {},
   "outputs": [
    {
     "data": {
      "text/plain": [
       "0        0.789125\n",
       "1        1.029892\n",
       "2        0.871839\n",
       "3        0.435581\n",
       "Class    1.095445\n",
       "dtype: float64"
      ]
     },
     "execution_count": 26,
     "metadata": {},
     "output_type": "execute_result"
    }
   ],
   "source": [
    "data.std()"
   ]
  },
  {
   "cell_type": "code",
   "execution_count": 27,
   "metadata": {},
   "outputs": [
    {
     "name": "stdout",
     "output_type": "stream",
     "text": [
      "Train\n",
      "          0         1         2         3  Class\n",
      "2  0.507349  0.293212  1.186451  0.026860      1\n",
      "3 -0.030352 -0.914277  0.412445 -0.427046     -1\n",
      "4 -0.978345 -0.375951 -1.455620 -0.510557     -1\n",
      "5 -0.227306  0.040024  0.366677  0.391854     -1\n",
      "Test\n",
      "          0         1         2         3  Class\n",
      "0  0.827683  0.340216 -0.056512 -0.349730      1\n",
      "1 -1.161720 -2.368056  0.184844 -0.848944      1\n",
      "Train\n",
      "          0         1         2         3  Class\n",
      "0  0.827683  0.340216 -0.056512 -0.349730      1\n",
      "1 -1.161720 -2.368056  0.184844 -0.848944      1\n",
      "4 -0.978345 -0.375951 -1.455620 -0.510557     -1\n",
      "5 -0.227306  0.040024  0.366677  0.391854     -1\n",
      "Test\n",
      "          0         1         2         3  Class\n",
      "2  0.507349  0.293212  1.186451  0.026860      1\n",
      "3 -0.030352 -0.914277  0.412445 -0.427046     -1\n",
      "Train\n",
      "          0         1         2         3  Class\n",
      "0  0.827683  0.340216 -0.056512 -0.349730      1\n",
      "1 -1.161720 -2.368056  0.184844 -0.848944      1\n",
      "2  0.507349  0.293212  1.186451  0.026860      1\n",
      "3 -0.030352 -0.914277  0.412445 -0.427046     -1\n",
      "Test\n",
      "          0         1         2         3  Class\n",
      "4 -0.978345 -0.375951 -1.455620 -0.510557     -1\n",
      "5 -0.227306  0.040024  0.366677  0.391854     -1\n"
     ]
    }
   ],
   "source": [
    "for train, test in kfold.split(data):\n",
    "    print(\"Train\")\n",
    "    print(shuffled_data.loc[train])\n",
    "    print(\"Test\")\n",
    "    print(shuffled_data.loc[test])"
   ]
  },
  {
   "cell_type": "markdown",
   "metadata": {},
   "source": [
    "Use the stratified kfold to shuffle properly"
   ]
  },
  {
   "cell_type": "code",
   "execution_count": 30,
   "metadata": {},
   "outputs": [],
   "source": [
    "from sklearn.preprocessing import StandardScaler, MinMaxScaler"
   ]
  },
  {
   "cell_type": "code",
   "execution_count": 38,
   "metadata": {},
   "outputs": [],
   "source": [
    "scaler = StandardScaler().fit(data.iloc[:, :-1])"
   ]
  },
  {
   "cell_type": "code",
   "execution_count": 40,
   "metadata": {},
   "outputs": [
    {
     "data": {
      "text/plain": [
       "array([-0.17711516, -0.49747181,  0.10638078, -0.28626055])"
      ]
     },
     "execution_count": 40,
     "metadata": {},
     "output_type": "execute_result"
    }
   ],
   "source": [
    "scaler.mean_"
   ]
  },
  {
   "cell_type": "code",
   "execution_count": 41,
   "metadata": {},
   "outputs": [
    {
     "data": {
      "text/plain": [
       "array([0.72036883, 0.94015822, 0.79587667, 0.39762922])"
      ]
     },
     "execution_count": 41,
     "metadata": {},
     "output_type": "execute_result"
    }
   ],
   "source": [
    "scaler.scale_"
   ]
  },
  {
   "cell_type": "code",
   "execution_count": 42,
   "metadata": {},
   "outputs": [
    {
     "data": {
      "text/plain": [
       "array([[ 1.39483905,  0.89100768, -0.20467041, -0.15961926],\n",
       "       [-1.36680724, -1.98964871,  0.09858699, -1.41509564],\n",
       "       [ 0.95015818,  0.84101137,  1.35708229,  0.78746881],\n",
       "       [ 0.20373309, -0.44333471,  0.38456226, -0.35406279],\n",
       "       [-1.11224992,  0.12925605, -1.96261681, -0.56408462],\n",
       "       [-0.06967316,  0.57170832,  0.32705567,  1.7053935 ]])"
      ]
     },
     "execution_count": 42,
     "metadata": {},
     "output_type": "execute_result"
    }
   ],
   "source": [
    "scaler.transform(data.iloc[:,:-1])"
   ]
  },
  {
   "cell_type": "code",
   "execution_count": 43,
   "metadata": {},
   "outputs": [
    {
     "name": "stdout",
     "output_type": "stream",
     "text": [
      "Train\n",
      "Test\n"
     ]
    },
    {
     "name": "stderr",
     "output_type": "stream",
     "text": [
      "/anaconda3/lib/python3.7/site-packages/sklearn/preprocessing/data.py:625: DataConversionWarning: Data with input dtype int64, float64 were all converted to float64 by StandardScaler.\n",
      "  return self.partial_fit(X, y)\n",
      "/anaconda3/lib/python3.7/site-packages/ipykernel_launcher.py:5: DataConversionWarning: Data with input dtype int64, float64 were all converted to float64 by StandardScaler.\n",
      "  \"\"\"\n"
     ]
    },
    {
     "ename": "ValueError",
     "evalue": "operands could not be broadcast together with shapes (4,5) (4,) (4,5) ",
     "output_type": "error",
     "traceback": [
      "\u001b[0;31m---------------------------------------------------------------------------\u001b[0m",
      "\u001b[0;31mValueError\u001b[0m                                Traceback (most recent call last)",
      "\u001b[0;32m<ipython-input-43-901ff2c2960d>\u001b[0m in \u001b[0;36m<module>\u001b[0;34m\u001b[0m\n\u001b[1;32m      3\u001b[0m     \u001b[0mStandardScaler\u001b[0m\u001b[0;34m(\u001b[0m\u001b[0;34m)\u001b[0m\u001b[0;34m.\u001b[0m\u001b[0mfit\u001b[0m\u001b[0;34m(\u001b[0m\u001b[0mshuffled_data\u001b[0m\u001b[0;34m.\u001b[0m\u001b[0miloc\u001b[0m\u001b[0;34m[\u001b[0m\u001b[0mtrain\u001b[0m\u001b[0;34m]\u001b[0m\u001b[0;34m)\u001b[0m\u001b[0;34m\u001b[0m\u001b[0;34m\u001b[0m\u001b[0m\n\u001b[1;32m      4\u001b[0m     \u001b[0mprint\u001b[0m\u001b[0;34m(\u001b[0m\u001b[0;34m\"Test\"\u001b[0m\u001b[0;34m)\u001b[0m\u001b[0;34m\u001b[0m\u001b[0;34m\u001b[0m\u001b[0m\n\u001b[0;32m----> 5\u001b[0;31m     \u001b[0mscaled_train\u001b[0m \u001b[0;34m=\u001b[0m \u001b[0mscaler\u001b[0m\u001b[0;34m.\u001b[0m\u001b[0mtransform\u001b[0m\u001b[0;34m(\u001b[0m\u001b[0mshuffled_data\u001b[0m\u001b[0;34m.\u001b[0m\u001b[0mloc\u001b[0m\u001b[0;34m[\u001b[0m\u001b[0mtrain\u001b[0m\u001b[0;34m]\u001b[0m\u001b[0;34m)\u001b[0m\u001b[0;34m\u001b[0m\u001b[0;34m\u001b[0m\u001b[0m\n\u001b[0m\u001b[1;32m      6\u001b[0m     \u001b[0mscaled_test\u001b[0m \u001b[0;34m=\u001b[0m \u001b[0mscaler\u001b[0m\u001b[0;34m.\u001b[0m\u001b[0mtransform\u001b[0m\u001b[0;34m(\u001b[0m\u001b[0mshuffled_data\u001b[0m\u001b[0;34m.\u001b[0m\u001b[0mloc\u001b[0m\u001b[0;34m[\u001b[0m\u001b[0mtest\u001b[0m\u001b[0;34m]\u001b[0m\u001b[0;34m)\u001b[0m\u001b[0;34m\u001b[0m\u001b[0;34m\u001b[0m\u001b[0m\n",
      "\u001b[0;32m/anaconda3/lib/python3.7/site-packages/sklearn/preprocessing/data.py\u001b[0m in \u001b[0;36mtransform\u001b[0;34m(self, X, y, copy)\u001b[0m\n\u001b[1;32m    761\u001b[0m         \u001b[0;32melse\u001b[0m\u001b[0;34m:\u001b[0m\u001b[0;34m\u001b[0m\u001b[0;34m\u001b[0m\u001b[0m\n\u001b[1;32m    762\u001b[0m             \u001b[0;32mif\u001b[0m \u001b[0mself\u001b[0m\u001b[0;34m.\u001b[0m\u001b[0mwith_mean\u001b[0m\u001b[0;34m:\u001b[0m\u001b[0;34m\u001b[0m\u001b[0;34m\u001b[0m\u001b[0m\n\u001b[0;32m--> 763\u001b[0;31m                 \u001b[0mX\u001b[0m \u001b[0;34m-=\u001b[0m \u001b[0mself\u001b[0m\u001b[0;34m.\u001b[0m\u001b[0mmean_\u001b[0m\u001b[0;34m\u001b[0m\u001b[0;34m\u001b[0m\u001b[0m\n\u001b[0m\u001b[1;32m    764\u001b[0m             \u001b[0;32mif\u001b[0m \u001b[0mself\u001b[0m\u001b[0;34m.\u001b[0m\u001b[0mwith_std\u001b[0m\u001b[0;34m:\u001b[0m\u001b[0;34m\u001b[0m\u001b[0;34m\u001b[0m\u001b[0m\n\u001b[1;32m    765\u001b[0m                 \u001b[0mX\u001b[0m \u001b[0;34m/=\u001b[0m \u001b[0mself\u001b[0m\u001b[0;34m.\u001b[0m\u001b[0mscale_\u001b[0m\u001b[0;34m\u001b[0m\u001b[0;34m\u001b[0m\u001b[0m\n",
      "\u001b[0;31mValueError\u001b[0m: operands could not be broadcast together with shapes (4,5) (4,) (4,5) "
     ]
    }
   ],
   "source": [
    "for train, test in kfold.split(data):\n",
    "    print(\"Train\")\n",
    "    StandardScaler().fit(shuffled_data.iloc[train])\n",
    "    print(\"Test\")\n",
    "    scaled_train = scaler.transform(shuffled_data.loc[train])\n",
    "    scaled_test = scaler.transform(shuffled_data.loc[test])"
   ]
  },
  {
   "cell_type": "code",
   "execution_count": 44,
   "metadata": {},
   "outputs": [
    {
     "data": {
      "text/plain": [
       "<matplotlib.axes._subplots.AxesSubplot at 0x1a23aab9e8>"
      ]
     },
     "execution_count": 44,
     "metadata": {},
     "output_type": "execute_result"
    }
   ],
   "source": [
    "data.plot()"
   ]
  },
  {
   "cell_type": "code",
   "execution_count": 47,
   "metadata": {},
   "outputs": [
    {
     "data": {
      "text/plain": [
       "<matplotlib.axes._subplots.AxesSubplot at 0x1a23c212b0>"
      ]
     },
     "execution_count": 47,
     "metadata": {},
     "output_type": "execute_result"
    },
    {
     "data": {
      "image/png": "[encoded data removed]",
      "text/plain": [
       "<Figure size 432x288 with 1 Axes>"
      ]
     },
     "metadata": {
      "needs_background": "light"
     },
     "output_type": "display_data"
    }
   ],
   "source": [
    "col = data.loc[:, 0]\n",
    "col.plot()"
   ]
  },
  {
   "cell_type": "code",
   "execution_count": 48,
   "metadata": {},
   "outputs": [
    {
     "data": {
      "text/html": [
       "<div>\n",
       "<style scoped>\n",
       "    .dataframe tbody tr th:only-of-type {\n",
       "        vertical-align: middle;\n",
       "    }\n",
       "\n",
       "    .dataframe tbody tr th {\n",
       "        vertical-align: top;\n",
       "    }\n",
       "\n",
       "    .dataframe thead th {\n",
       "        text-align: right;\n",
       "    }\n",
       "</style>\n",
       "<table border=\"1\" class=\"dataframe\">\n",
       "  <thead>\n",
       "    <tr style=\"text-align: right;\">\n",
       "      <th></th>\n",
       "      <th>index</th>\n",
       "      <th>0</th>\n",
       "      <th>1</th>\n",
       "      <th>2</th>\n",
       "      <th>3</th>\n",
       "      <th>Class</th>\n",
       "    </tr>\n",
       "  </thead>\n",
       "  <tbody>\n",
       "    <tr>\n",
       "      <th>0</th>\n",
       "      <td>4</td>\n",
       "      <td>-0.978345</td>\n",
       "      <td>-0.375951</td>\n",
       "      <td>-1.455620</td>\n",
       "      <td>-0.510557</td>\n",
       "      <td>-1</td>\n",
       "    </tr>\n",
       "    <tr>\n",
       "      <th>1</th>\n",
       "      <td>3</td>\n",
       "      <td>-0.030352</td>\n",
       "      <td>-0.914277</td>\n",
       "      <td>0.412445</td>\n",
       "      <td>-0.427046</td>\n",
       "      <td>-1</td>\n",
       "    </tr>\n",
       "    <tr>\n",
       "      <th>2</th>\n",
       "      <td>1</td>\n",
       "      <td>-1.161720</td>\n",
       "      <td>-2.368056</td>\n",
       "      <td>0.184844</td>\n",
       "      <td>-0.848944</td>\n",
       "      <td>1</td>\n",
       "    </tr>\n",
       "    <tr>\n",
       "      <th>3</th>\n",
       "      <td>2</td>\n",
       "      <td>0.507349</td>\n",
       "      <td>0.293212</td>\n",
       "      <td>1.186451</td>\n",
       "      <td>0.026860</td>\n",
       "      <td>1</td>\n",
       "    </tr>\n",
       "    <tr>\n",
       "      <th>4</th>\n",
       "      <td>0</td>\n",
       "      <td>0.827683</td>\n",
       "      <td>0.340216</td>\n",
       "      <td>-0.056512</td>\n",
       "      <td>-0.349730</td>\n",
       "      <td>1</td>\n",
       "    </tr>\n",
       "    <tr>\n",
       "      <th>5</th>\n",
       "      <td>5</td>\n",
       "      <td>-0.227306</td>\n",
       "      <td>0.040024</td>\n",
       "      <td>0.366677</td>\n",
       "      <td>0.391854</td>\n",
       "      <td>-1</td>\n",
       "    </tr>\n",
       "  </tbody>\n",
       "</table>\n",
       "</div>"
      ],
      "text/plain": [
       "   index         0         1         2         3  Class\n",
       "0      4 -0.978345 -0.375951 -1.455620 -0.510557     -1\n",
       "1      3 -0.030352 -0.914277  0.412445 -0.427046     -1\n",
       "2      1 -1.161720 -2.368056  0.184844 -0.848944      1\n",
       "3      2  0.507349  0.293212  1.186451  0.026860      1\n",
       "4      0  0.827683  0.340216 -0.056512 -0.349730      1\n",
       "5      5 -0.227306  0.040024  0.366677  0.391854     -1"
      ]
     },
     "execution_count": 48,
     "metadata": {},
     "output_type": "execute_result"
    }
   ],
   "source": [
    "shuffled_data.reset_index()"
   ]
  },
  {
   "cell_type": "code",
   "execution_count": 49,
   "metadata": {},
   "outputs": [
    {
     "data": {
      "text/html": [
       "<div>\n",
       "<style scoped>\n",
       "    .dataframe tbody tr th:only-of-type {\n",
       "        vertical-align: middle;\n",
       "    }\n",
       "\n",
       "    .dataframe tbody tr th {\n",
       "        vertical-align: top;\n",
       "    }\n",
       "\n",
       "    .dataframe thead th {\n",
       "        text-align: right;\n",
       "    }\n",
       "</style>\n",
       "<table border=\"1\" class=\"dataframe\">\n",
       "  <thead>\n",
       "    <tr style=\"text-align: right;\">\n",
       "      <th></th>\n",
       "      <th>0</th>\n",
       "      <th>1</th>\n",
       "      <th>2</th>\n",
       "      <th>3</th>\n",
       "      <th>Class</th>\n",
       "    </tr>\n",
       "  </thead>\n",
       "  <tbody>\n",
       "    <tr>\n",
       "      <th>0</th>\n",
       "      <td>-0.978345</td>\n",
       "      <td>-0.375951</td>\n",
       "      <td>-1.455620</td>\n",
       "      <td>-0.510557</td>\n",
       "      <td>-1</td>\n",
       "    </tr>\n",
       "    <tr>\n",
       "      <th>1</th>\n",
       "      <td>-0.030352</td>\n",
       "      <td>-0.914277</td>\n",
       "      <td>0.412445</td>\n",
       "      <td>-0.427046</td>\n",
       "      <td>-1</td>\n",
       "    </tr>\n",
       "    <tr>\n",
       "      <th>2</th>\n",
       "      <td>-1.161720</td>\n",
       "      <td>-2.368056</td>\n",
       "      <td>0.184844</td>\n",
       "      <td>-0.848944</td>\n",
       "      <td>1</td>\n",
       "    </tr>\n",
       "    <tr>\n",
       "      <th>3</th>\n",
       "      <td>0.507349</td>\n",
       "      <td>0.293212</td>\n",
       "      <td>1.186451</td>\n",
       "      <td>0.026860</td>\n",
       "      <td>1</td>\n",
       "    </tr>\n",
       "    <tr>\n",
       "      <th>4</th>\n",
       "      <td>0.827683</td>\n",
       "      <td>0.340216</td>\n",
       "      <td>-0.056512</td>\n",
       "      <td>-0.349730</td>\n",
       "      <td>1</td>\n",
       "    </tr>\n",
       "    <tr>\n",
       "      <th>5</th>\n",
       "      <td>-0.227306</td>\n",
       "      <td>0.040024</td>\n",
       "      <td>0.366677</td>\n",
       "      <td>0.391854</td>\n",
       "      <td>-1</td>\n",
       "    </tr>\n",
       "  </tbody>\n",
       "</table>\n",
       "</div>"
      ],
      "text/plain": [
       "          0         1         2         3  Class\n",
       "0 -0.978345 -0.375951 -1.455620 -0.510557     -1\n",
       "1 -0.030352 -0.914277  0.412445 -0.427046     -1\n",
       "2 -1.161720 -2.368056  0.184844 -0.848944      1\n",
       "3  0.507349  0.293212  1.186451  0.026860      1\n",
       "4  0.827683  0.340216 -0.056512 -0.349730      1\n",
       "5 -0.227306  0.040024  0.366677  0.391854     -1"
      ]
     },
     "execution_count": 49,
     "metadata": {},
     "output_type": "execute_result"
    }
   ],
   "source": [
    "shuffled_data.reset_index().iloc[:, 1:]"
   ]
  },
  {
   "cell_type": "markdown",
   "metadata": {},
   "source": [
    "Error(output - target)\n",
    "\n",
    "Sum of Squares Error\n",
    "\n",
    "Error = 0.5(output - target)^2"
   ]
  }
 ],
 "metadata": {
  "kernelspec": {
   "display_name": "Python 3",
   "language": "python",
   "name": "python3"
  },
  "language_info": {
   "codemirror_mode": {
    "name": "ipython",
    "version": 3
   },
   "file_extension": ".py",
   "mimetype": "text/x-python",
   "name": "python",
   "nbconvert_exporter": "python",
   "pygments_lexer": "ipython3",
   "version": "3.7.1"
  }
 },
 "nbformat": 4,
 "nbformat_minor": 2
}
